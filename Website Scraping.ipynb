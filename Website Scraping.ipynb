{
    "nbformat_minor": 1, 
    "cells": [
        {
            "source": "#!pip install beautifulsoup4\n#!pip install lxml\n#!pip install request\n#!pip install html5lib\n\nfrom bs4 import BeautifulSoup\nimport requests\nimport pandas as pd\nimport numpy as np\n\npd.set_option('display.expand_frame_repr', False)\n\nsource = requests.get ('https://en.wikipedia.org/wiki/List_of_postal_codes_of_Canada:_M').text\nsoup = BeautifulSoup(source,'lxml')\n\ntable = soup.find('table')\ntable = BeautifulSoup(source).find('table')\ndf = pd.read_html(str(table))\n\n\ndata = {'Postcode':df[0][0][1:290],'Borough':df[0][1][1:290],'Neighbourhood':df[0][2][1:290]}\ndf = pd.DataFrame(data)\ndf=df.loc[df['Borough'] != 'Not assigned']\n\n#ids = df[\"Postcode\"]\n#duplicate= df[ids.isin(ids[ids.duplicated()])]\n\ndf.sort_values('Postcode')\n\ndulicate =\"test\"\ndfNoDuplicate = df\n\nmy_list = list()\nNeighbourhood =''\ni=0\nduplicateRecords =0\nfor index, row in df.iterrows():\n     \n    if row['Postcode'] == dulicate:\n        dulicate=row['Postcode']\n        my_list.append(i-1)\n        row['Neighbourhood'] = row['Neighbourhood'] +', ' + Neighbourhood.replace(',','')\n        Neighbourhood = ''\n        i= i+1\n    else :\n        dulicate=row['Postcode']\n        i= i+1\n        Neighbourhood = ''\n        Neighbourhood = row['Neighbourhood'] +', ' +Neighbourhood\n \n    if row['Neighbourhood'] == 'Not assigned' :\n        row['Neighbourhood'] = row['Borough']\ndfNoDuplicate = dfNoDuplicate.drop(dfNoDuplicate.index[my_list])\n\nprint (dfNoDuplicate)\ndfNoDuplicate.shape", 
            "cell_type": "code", 
            "metadata": {}, 
            "outputs": [
                {
                    "output_type": "stream", 
                    "name": "stdout", 
                    "text": "              Borough                                      Neighbourhood Postcode\n3          North York                                          Parkwoods      M3A\n4          North York                                   Victoria Village      M4A\n6    Downtown Toronto                         Regent Park, Harbourfront       M5A\n8          North York                  Lawrence Manor, Lawrence Heights       M6A\n9        Queen's Park                                       Queen's Park      M7A\n11          Etobicoke                                   Islington Avenue      M9A\n13        Scarborough                                    Malvern, Rouge       M1B\n15         North York                                    Don Mills North      M3B\n17          East York                   Parkview Hill, Woodbine Gardens       M4B\n19   Downtown Toronto                          Garden District, Ryerson       M5B\n20         North York                                          Glencairn      M6B\n27          Etobicoke                                  West Deane Park,       M9B\n30        Scarborough                                       Port Union,       M1C\n33         North York                  Don Mills South, Flemingdon Park       M3C\n34          East York                                   Woodbine Heights      M4C\n35   Downtown Toronto                                     St. James Town      M5C\n36               York                                 Humewood-Cedarvale      M6C\n42          Etobicoke                                Old Burnhamthorpe,       M9C\n45        Scarborough                                        West Hill,       M1E\n48       East Toronto                                        The Beaches      M4E\n49   Downtown Toronto                                        Berczy Park      M5E\n50               York                                Caledonia-Fairbanks      M6E\n54        Scarborough                                             Woburn      M1G\n57          East York                                            Leaside      M4G\n58   Downtown Toronto                                 Central Bay Street      M5G\n59   Downtown Toronto                                           Christie      M6G\n63        Scarborough                                          Cedarbrae      M1H\n64         North York                                  Hillcrest Village      M2H\n67         North York                                   Wilson Heights,       M3H\n68          East York                                   Thorncliffe Park      M4H\n..                ...                                                ...      ...\n169   Central Toronto                                 North Toronto West      M4R\n172   Central Toronto                                        Yorkville,       M5R\n174      West Toronto                            Roncesvalles, Parkdale       M6R\n175       Mississauga              Canada Post Gateway Processing Centre      M7R\n180         Etobicoke                                     St. Phillips,       M9R\n181       Scarborough                                          Agincourt      M1S\n184   Central Toronto                                         Davisville      M4S\n186  Downtown Toronto                    University of Toronto, Harbord       M5S\n188      West Toronto                                Swansea, Runnymede       M6S\n194       Scarborough                                    Tam O'Shanter,       M1T\n198   Central Toronto                       Summerhill East, Moore Park       M4T\n201  Downtown Toronto                                Kensington Market,       M5T\n209       Scarborough                                     Steeles East,       M1V\n216   Central Toronto                                  Summerhill West,       M4V\n223  Downtown Toronto                                    South Niagara,       M5V\n228         Etobicoke                                      New Toronto,       M8V\n236         Etobicoke                                      Thistletown,       M9V\n238       Scarborough                     Steeles West, L'Amoreaux West       M1W\n241  Downtown Toronto                                           Rosedale      M4W\n242  Downtown Toronto                    Stn A PO Boxes 25 The Esplanade      M5W\n246         Etobicoke                            Long Branch, Alderwood       M8W\n247         Etobicoke                                          Northwest      M9W\n248       Scarborough                                        Upper Rouge      M1X\n252  Downtown Toronto                       St. James Town, Cabbagetown       M4X\n254  Downtown Toronto            Underground city, First Canadian Place       M5X\n259         Etobicoke                                   Old Mill North,       M8X\n264  Downtown Toronto                               Church and Wellesley      M4Y\n267      East Toronto  Business Reply Mail Processing Centre 969 Eastern      M7Y\n275         Etobicoke                                         Sunnylea,       M8Y\n288         Etobicoke                                   South of Bloor,       M8Z\n\n[103 rows x 3 columns]\n"
                }, 
                {
                    "output_type": "stream", 
                    "name": "stderr", 
                    "text": "/opt/conda/envs/DSX-Python35/lib/python3.5/site-packages/bs4/__init__.py:181: UserWarning: No parser was explicitly specified, so I'm using the best available HTML parser for this system (\"lxml\"). This usually isn't a problem, but if you run this code on another system, or in a different virtual environment, it may use a different parser and behave differently.\n\nThe code that caused this warning is on line 193 of the file /opt/conda/envs/DSX-Python35/lib/python3.5/runpy.py. To get rid of this warning, change code that looks like this:\n\n BeautifulSoup(YOUR_MARKUP})\n\nto this:\n\n BeautifulSoup(YOUR_MARKUP, \"lxml\")\n\n  markup_type=markup_type))\n"
                }, 
                {
                    "output_type": "execute_result", 
                    "data": {
                        "text/plain": "(103, 3)"
                    }, 
                    "execution_count": 3, 
                    "metadata": {}
                }
            ], 
            "execution_count": 3
        }
    ], 
    "metadata": {
        "kernelspec": {
            "display_name": "Python 3.5", 
            "name": "python3", 
            "language": "python"
        }, 
        "language_info": {
            "mimetype": "text/x-python", 
            "nbconvert_exporter": "python", 
            "version": "3.5.5", 
            "name": "python", 
            "pygments_lexer": "ipython3", 
            "file_extension": ".py", 
            "codemirror_mode": {
                "version": 3, 
                "name": "ipython"
            }
        }
    }, 
    "nbformat": 4
}