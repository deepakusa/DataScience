{
    "nbformat_minor": 1, 
    "cells": [
        {
            "source": "## Project Details.\n#### The New York Neighborhood data will be gathered from below website in a Json format.\n#### Neighborhood data source: https://geo.nyu.edu/catalog/nyu_2451_34572\n#### This Neighborhood data will be normalized with key fields \u201cBorough\u201d, \u201cNeighborhood\u201d, \u201cLatitude\u201d and \u201cLongitude\u201d. Data Frame will be created with Neighborhood data.\n\n### Explore Neighborhood:\n#### FourSquare API will be used to explore schools near each New York neighborhood. This data needs to analyzed and find the frequency of schools available in each Neighborhood.  https://api.foursquare.com/v2/venues/explore?\n    \n", 
            "cell_type": "markdown", 
            "metadata": {
                "collapsed": true
            }
        }, 
        {
            "execution_count": null, 
            "cell_type": "code", 
            "metadata": {}, 
            "outputs": [], 
            "source": ""
        }
    ], 
    "metadata": {
        "kernelspec": {
            "display_name": "Python 3.5", 
            "name": "python3", 
            "language": "python"
        }, 
        "language_info": {
            "mimetype": "text/x-python", 
            "nbconvert_exporter": "python", 
            "version": "3.5.5", 
            "name": "python", 
            "file_extension": ".py", 
            "pygments_lexer": "ipython3", 
            "codemirror_mode": {
                "version": 3, 
                "name": "ipython"
            }
        }
    }, 
    "nbformat": 4
}