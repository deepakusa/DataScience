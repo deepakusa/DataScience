{
    "nbformat_minor": 1, 
    "cells": [
        {
            "source": "## Best school Neighborhood\nThis project is for the people who are moving to New York city wants to know the good Neighborhood for the families with schools around the Neighborhood. This project will focus on schools that are available New York Neighborhood.  This project will benefit the people who is looking for Neighborhood with schools around it.\n", 
            "cell_type": "markdown", 
            "metadata": {
                "collapsed": true
            }
        }, 
        {
            "execution_count": null, 
            "cell_type": "code", 
            "metadata": {}, 
            "outputs": [], 
            "source": ""
        }
    ], 
    "metadata": {
        "kernelspec": {
            "display_name": "Python 3.5", 
            "name": "python3", 
            "language": "python"
        }, 
        "language_info": {
            "mimetype": "text/x-python", 
            "nbconvert_exporter": "python", 
            "version": "3.5.5", 
            "name": "python", 
            "file_extension": ".py", 
            "pygments_lexer": "ipython3", 
            "codemirror_mode": {
                "version": 3, 
                "name": "ipython"
            }
        }
    }, 
    "nbformat": 4
}